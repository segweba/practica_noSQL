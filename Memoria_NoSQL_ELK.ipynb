{
 "cells": [
  {
   "cell_type": "markdown",
   "metadata": {},
   "source": [
    "# Práctica NoSQL y Elastic"
   ]
  },
  {
   "cell_type": "markdown",
   "metadata": {},
   "source": [
    "Conexión kibana: http://127.0.0.1:5601"
   ]
  },
  {
   "cell_type": "markdown",
   "metadata": {},
   "source": [
    "## Datasets"
   ]
  },
  {
   "cell_type": "markdown",
   "metadata": {},
   "source": [
    "### Las obras completas de Wiliam Sakespeare"
   ]
  },
  {
   "cell_type": "markdown",
   "metadata": {},
   "source": [
    "Este conjunto de datos contiene los diálogos de todas la obras de Wiliam Sakespeare. Cada línea identifica una frase de un diálogo y al personaje al que corresponde el texto. Ejemplo:\n",
    "\n",
    "- line_id: Identificador único de la línea de diálogo. Tipo entero.\n",
    "- play_name: Nombre de la obra.\n",
    "- speach_number: Número del diálogo.\n",
    "- line_number: Número de línea del diálogo en la obra.\n",
    "- speaker: Personaje que dice el téxto.\n",
    "- text_entry: Texto dicho por el personaje en el diálogo.\n",
    "\n",
    "Por la forma en la que está estructurada la información en este conjunto de datos y los posibles casos de uso aplicables (número de líneas de cada personaje, palabras más utilizadas, palabra más usada por un personaje, etc.) lo recomendable sería usar Elasticsearch, ya que se trata de un motor de búsqueda completo basado en Lucene.\n",
    "\n",
    "Elasticsearch es capaz de tokenizar el texto para después almacenarlo en un índice invertido, lo cual permite identificar los documentos en los que aparece cada palabra."
   ]
  },
  {
   "cell_type": "markdown",
   "metadata": {},
   "source": [
    "### Calidad del Aire de la ciudad de Madrid"
   ]
  },
  {
   "cell_type": "markdown",
   "metadata": {},
   "source": [
    "Este conjunto de datos hace referencia a la calidad del aire de la ciudad de Madrid y recoge las mediciones horarias de distintas métricas en diferentes estaciones base.\n",
    "\n",
    "- PROVINCIA: Código de provincia (no aporta información ya que todos son de Madrid)\n",
    "- MUNICIPIO: Código de municipio (tampoco aportaría mucho)\n",
    "- ESTACION: Código de estación\n",
    "- MAGNITUD: Código de la magnitud que se está midiendo\n",
    "- PUNTO_MUESTREO: Código de muestre\n",
    "- ANO: Año de medida\n",
    "- MES: Mes de medida\n",
    "- DIA: Día de medida\n",
    "- H01: Valor de la magnitud medida a las 01:00h\n",
    "- V01: Código de verificación de la medida\n",
    "- H02: Valor de la magnitud medida a las 02:00h\n",
    "- V02: Código de verificación de la medida\n",
    "- ...\n",
    "- H24: Valor de la magnitud medida a las 24:00h\n",
    "- V24: Código de verificación de la medida\n",
    "\n",
    "Por la forma en la que está estructurada la información en este conjunto de datos y los posibles casos de uso aplicables (evolución horaria de una o varias magnitudes, comparación de magnitudes entre estaciones base, etc.), lo recomendable sería usar Cassandra ya que es una base de datos distribuida altamente escalable y de alto rendimiento que es capaz de manejar grandes volúmenes de datos en tiempo real."
   ]
  },
  {
   "cell_type": "markdown",
   "metadata": {},
   "source": [
    "### City Bike"
   ]
  },
  {
   "cell_type": "markdown",
   "metadata": {},
   "source": [
    "Este conjunto de datos contiene información sobre todos los trayectos realizados por los usuarios del sistema de bicicletas públicas de la ciudad de Nueva York.\n",
    "\n",
    "Cada entrada del dataset tiene los siguientes campos:\n",
    "\n",
    "- Trip Duration: Duración del viaje en segundos.\n",
    "- Start Time and Date: Marca de tiempo con el inicio del trayecto.\n",
    "- Stop Time and Date: Marca de tiempo con el final del trayecto.\n",
    "- Start Station Name: Nombre de la estación de inicio.\n",
    "- End Station Name: Nombre de la estación de destino\n",
    "- Station ID: Identificador único de la estación de inicio.\n",
    "- Station Lat/Long: Latitud y longitud de la estación de inicio.\n",
    "- Bike ID: Identificador único de la bicicleta utilizada para el trayecto.\n",
    "- User Type: Tipo de usuario que ha realizado el trayecto.\n",
    "  - Customer:\n",
    "    - 24-hour pass\n",
    "    - 3-day pass user\n",
    "  - Subscriber = Annual Member \n",
    "- Gender (Zero=unknown; 1=male; 2=female): Género del usuario que ha realizado el trayecto.\n",
    "- Year of Birth: Año de nacimiento del usuario que ha realizado el trayecto.\n",
    "\n",
    "Por la forma en la que está estructurada la información en este conjunto de datos y los posibles casos de uso aplicables (estación más usada por usuarios subscritos o usuarios temporales, usuarios que han cambiado de tipo de subscripción, tipo de trayecto más habitual entre tipos de usurios, trayectos más frecuentes, horas puntas / horas valle, etc.) , lo recomendable sería usar Neo4j ya que una de sus ventajas principales es su capacidad para manejar relaciones complejas entre datos de manera eficiente."
   ]
  },
  {
   "cell_type": "markdown",
   "metadata": {},
   "source": [
    "### Log Files"
   ]
  },
  {
   "cell_type": "markdown",
   "metadata": {},
   "source": [
    "Este conjunto de datos contiene ifnormación de ficheros de log de un servido web.\n",
    "\n",
    "Cada entrada tiene los siguientes campos:\n",
    "    \n",
    "- @timestamp: Marca de tiempo de la petición web registrada en el log.\n",
    "- ip: IP de origen de la petición.\n",
    "- extension: Tipo de recurso pedido.\n",
    "- response: Código de respuesta http del servirdor a la petición.\n",
    "- geo: Información geográfica asociada a la IP de origen de la petición.\n",
    "- @tags: Etiquetas asociadas a la petición.\n",
    "- utc_time: Marca de tiempo de la petición en UTC.\n",
    "- referer: URL del host desde donde se hizo la petición.\n",
    "- agent: User Agent del cliente que realizó la petición.\n",
    "- clientip: IP del cliente que realizó la petición.\n",
    "- bytes: Tamaño de la respuesta en bytes.\n",
    "- host: URL del host de la aplicación.\n",
    "- url: URL de la petición realizada al servidor.\n",
    "- @message: Mendaje del log.\n",
    "- headings: Cabecera de la página pedida.\n",
    "- links: Enlaces que contiene la página pedida.\n",
    "- relatedContent: Contenido relacionado con la petición.\n",
    "- machine: Información sobre el dispositivo del cliente que realizó la petición.\n",
    "- @version: Versión del mensaje.\n",
    "\n",
    "\n",
    "Por la forma en la que está estructurada la información en este conjunto de datos y los posibles casos de uso aplicables (némero de peticiones en un espacio de tiempo, tipo de recurso solicituda, peticiones dentro de una zona geográfica, tamaños de las respuetas, número de respuestas con error del servidor, etc.) lo recomendable sería usar Elasticsearch."
   ]
  },
  {
   "cell_type": "markdown",
   "metadata": {},
   "source": [
    "## Descripcion del caso de uso"
   ]
  },
  {
   "cell_type": "markdown",
   "metadata": {},
   "source": [
    "Se va a crear un caso de uso basado en el dataset \"Log Files\". Como se ha comentado anteriormente, el uso de elasticsearch se considera lo más apropiado debido a las características de los datos que se van a almacenar.\n",
    "\n",
    "Se ha optado por usar Elasticsearch porque es de aplicación en mi ámbito laboral. Se descarta el uso de Logstash por ser una herramienta que no usaré en mi puesto, a pesar de que lo más adecuado sería su uso.\n",
    "\n",
    "**El caso de uso ideado consiste en crear un proceso que diariamente consulte el enlace de descarga donde se va a encontrar un único fichero correspondiente al log del servidor web del día anterior. Una vez descargado el fichero de log se creará un indice en elasticsearch correspondiente al día actual con los logs del día anterior.**\n",
    "\n",
    "Se diseña un template para los íncides de modo que las búsquedas pueden realizarse sobre los índices de todos los días.\n",
    "\n",
    "Además, se creará la siguiente política de gestión de ciclo de vida:\n",
    "- Hot: Se utiliza para alojar los datos de cada día. Se pueden añadir, borrar, modificar y consultar documentos.\n",
    "- Warm: No se pueden modificar pero estan disponible durante unos días para consultar el funcionamiento del servidor web.\n",
    "- Delete: Los índices se borran ya que los documentos se consideran que no tienen validez o no son útiles."
   ]
  },
  {
   "cell_type": "markdown",
   "metadata": {},
   "source": [
    "Para probar la política de ciclo de vida de los índices y de paso, reducir el tiempo para la carga de documentos en elasticsearch, se ha creado una varible **test** que permite recolectar un subconjunto de registros del fichero de log facilitado para la práctica.\n",
    "\n",
    "**IMPORNTATE: Si test = False, se cargarán todos los documentos en el índice del día.**"
   ]
  },
  {
   "cell_type": "code",
   "execution_count": null,
   "metadata": {},
   "outputs": [],
   "source": [
    "import os\n",
    "from IPython.display import display, Image\n",
    "file_imagen = os.path.join(os.getcwd(), 'imagen.png')\n",
    "display(Image(filename=file_imagen))"
   ]
  },
  {
   "cell_type": "markdown",
   "metadata": {},
   "source": [
    "## Diagrama del modelo de datos"
   ]
  },
  {
   "cell_type": "markdown",
   "metadata": {},
   "source": [
    "Tras analizar algunas líneas del dataset seleccionado, se define la siguiente plantilla de modelo de datos:\n",
    "- Incluido en el fichero index_template_curl.txt"
   ]
  },
  {
   "cell_type": "code",
   "execution_count": null,
   "metadata": {},
   "outputs": [],
   "source": [
    "! curl -X PUT \"http://elasticsearch:9200/_index_template/index-web-log\"  -H 'Content-Type: application/json' -d' \\\n",
    "{ \\\n",
    "  \"index_patterns\": [\"index-web-log-*\"], \\\n",
    "  \"template\": { \\\n",
    "    \"settings\":{ \\\n",
    "      \"number_of_shards\":3, \\\n",
    "      \"number_of_replicas\":2, \\\n",
    "      \"index.lifecycle.name\": \"web-log-metrics-policy\", \\\n",
    "      \"index.lifecycle.rollover_alias\": \"index-web-log\" \\\n",
    "    }, \\\n",
    "    \"aliases\":{ \\\n",
    "      \"all_orders\":{} \\\n",
    "    }, \\\n",
    "    \"mappings\": { \\\n",
    "      \"properties\": { \\\n",
    "        \"@timestamp\": { \\\n",
    "            \"type\": \"date\" \\\n",
    "            }, \\\n",
    "        \"ip\": { \\\n",
    "            \"type\": \"ip\" \\\n",
    "            }, \\\n",
    "        \"extension\": { \\\n",
    "            \"type\": \"keyword\" \\\n",
    "            }, \\\n",
    "        \"response\": { \\\n",
    "            \"type\": \"keyword\" \\\n",
    "            }, \\\n",
    "        \"geo\": { \\\n",
    "            \"properties\": { \\\n",
    "                \"coordinates\": { \\\n",
    "                    \"type\": \"geo_point\" \\\n",
    "                    }, \\\n",
    "                \"src\": { \\\n",
    "                    \"type\": \"keyword\" \\\n",
    "                    }, \\\n",
    "                \"dest\": { \\\n",
    "                    \"type\": \"keyword\" \\\n",
    "                    }, \\\n",
    "                \"srcdest\": { \\\n",
    "                    \"type\": \"text\" \\\n",
    "                    } \\\n",
    "                } \\\n",
    "            }, \\\n",
    "        \"@tags\": { \\\n",
    "            \"type\": \"text\" \\\n",
    "            }, \\\n",
    "        \"utc_time\": { \\\n",
    "            \"type\": \"date\" \\\n",
    "            }, \\\n",
    "        \"referer\": { \\\n",
    "            \"type\": \"text\" \\\n",
    "            }, \\\n",
    "        \"agent\": { \\\n",
    "            \"type\": \"text\" \\\n",
    "            }, \\\n",
    "        \"clientip\": { \\\n",
    "            \"type\": \"ip\" \\\n",
    "            }, \\\n",
    "        \"bytes\": { \\\n",
    "            \"type\": \"integer\" \\\n",
    "            }, \\\n",
    "        \"host\": { \\\n",
    "            \"type\": \"text\" \\\n",
    "            }, \\\n",
    "        \"request\": { \\\n",
    "            \"type\": \"text\" \\\n",
    "            }, \\\n",
    "        \"url\": { \\\n",
    "            \"type\": \"text\" \\\n",
    "            }, \\\n",
    "        \"@message\": { \\\n",
    "            \"type\": \"text\" \\\n",
    "            }, \\\n",
    "        \"spaces\": { \\\n",
    "            \"type\": \"text\" \\\n",
    "            }, \\\n",
    "        \"xss\": { \\\n",
    "            \"type\": \"text\" \\\n",
    "            }, \\\n",
    "        \"headings\": { \\\n",
    "            \"type\": \"text\" \\\n",
    "            }, \\\n",
    "        \"links\": { \\\n",
    "            \"type\": \"text\" \\\n",
    "            }, \\\n",
    "        \"relatedContent\": { \\\n",
    "            \"properties\": { \\\n",
    "                \"url\": { \\\n",
    "                    \"type\": \"text\" \\\n",
    "                    }, \\\n",
    "                \"og:type\": { \\\n",
    "                    \"type\": \"keyword\" \\\n",
    "                    }, \\\n",
    "                \"og:title\": { \\\n",
    "                    \"type\": \"text\" \\\n",
    "                }, \\\n",
    "                \"og:description\": { \\\n",
    "                    \"type\": \"text\" \\\n",
    "                    }, \\\n",
    "                \"og:url\": { \\\n",
    "                    \"type\": \"text\" \\\n",
    "                    }, \\\n",
    "                \"article:published_time\": { \\\n",
    "                    \"type\": \"date\" \\\n",
    "                    }, \\\n",
    "                \"article:modified_time\": { \\\n",
    "                    \"type\": \"date\" \\\n",
    "                    }, \\\n",
    "                \"article:section\": { \\\n",
    "                    \"type\": \"keyword\" \\\n",
    "                    }, \\\n",
    "                \"article:tag\": { \\\n",
    "                    \"type\": \"keyword\" \\\n",
    "                    }, \\\n",
    "                \"og:image\": { \\\n",
    "                    \"type\": \"text\" \\\n",
    "                    }, \\\n",
    "                \"og:image:height\": { \\\n",
    "                    \"type\": \"integer\" \\\n",
    "                    }, \\\n",
    "                \"og:image:width\": { \\\n",
    "                    \"type\": \"integer\" \\\n",
    "                    }, \\\n",
    "                \"og:site_name\": { \\\n",
    "                    \"type\": \"keyword\" \\\n",
    "                    }, \\\n",
    "                \"twitter:title\": { \\\n",
    "                    \"type\": \"text\" \\\n",
    "                    }, \\\n",
    "                \"twitter:description\": { \\\n",
    "                    \"type\": \"text\" \\\n",
    "                    }, \\\n",
    "                \"twitter:card\": { \\\n",
    "                    \"type\": \"keyword\" \\\n",
    "                    }, \\\n",
    "                \"twitter:image\": { \\\n",
    "                    \"type\": \"text\" \\\n",
    "                    }, \\\n",
    "                \"twitter:site\": { \\\n",
    "                    \"type\": \"keyword\" \\\n",
    "                    } \\\n",
    "                } \\\n",
    "            }, \\\n",
    "        \"machine\": { \\\n",
    "            \"properties\": { \\\n",
    "                \"os\": { \\\n",
    "                    \"type\": \"keyword\" \\\n",
    "                    }, \\\n",
    "                \"ram\": { \\\n",
    "                    \"type\": \"long\" \\\n",
    "                    } \\\n",
    "                } \\\n",
    "            }, \\\n",
    "        \"@version\": { \\\n",
    "            \"type\": \"keyword\" \\\n",
    "            }, \\\n",
    "        \"memory\": { \\\n",
    "            \"type\": \"long\" \\\n",
    "            }, \\\n",
    "        \"phpmemory\": { \\\n",
    "            \"type\": \"long\" \\\n",
    "            } \\\n",
    "      } \\\n",
    "    } \\\n",
    "  } \\\n",
    "}'"
   ]
  },
  {
   "cell_type": "markdown",
   "metadata": {},
   "source": [
    "## Política de gestion de ciclo de vida de índices (ILM)"
   ]
  },
  {
   "cell_type": "markdown",
   "metadata": {},
   "source": [
    "Tal y como se ha comentados antes, se establece un ciclo de vida de los índices:\n",
    "- Hot: El índice se rotará cuando tenga más de 1 día o más de 1Gb.\n",
    "- Warm: Los índices de más de 1 días y menos de 14 días.\n",
    "- Delete: Los índices de más de 14 días se borrarán."
   ]
  },
  {
   "cell_type": "markdown",
   "metadata": {},
   "source": [
    "Tras consultar la siguiente página\n",
    "\n",
    "https://www.elastic.co/guide/en/elasticsearch/reference/current/size-your-shards.htmlhttps://www.elastic.co/guide/en/elasticsearch/reference/current/size-your-shards.html\n",
    "\n",
    "se indica que la opción \"max_age\" está en proceso de desuso, por lo que se opta por usar la recomendación de usar \"max_primary_shard_size\"\n",
    "\n",
    "_If you use ILM and your retention policy allows it, avoid using a max_age threshold for the rollover action. Instead, use max_primary_shard_size to avoid creating empty indices or many small shards._"
   ]
  },
  {
   "cell_type": "code",
   "execution_count": null,
   "metadata": {},
   "outputs": [],
   "source": [
    "! curl -X PUT \"http://elasticsearch:9200/_ilm/policy/web-log-metrics-policy\" -H 'Content-Type: application/json' -d' \\\n",
    "{ \\\n",
    "    \"policy\": { \\\n",
    "        \"phases\": { \\\n",
    "            \"hot\": { \\\n",
    "                \"actions\": { \\\n",
    "                    \"rollover\": { \\\n",
    "                        \"max_age\": \"1d\", \\\n",
    "                        \"max_primary_shard_size\": \"1gb\" \\\n",
    "                    } \\\n",
    "                } \\\n",
    "            }, \\\n",
    "            \"warm\": { \\\n",
    "                \"min_age\": \"1d\", \\\n",
    "                \"actions\": {} \\\n",
    "            }, \\\n",
    "            \"delete\": { \\\n",
    "                \"min_age\": \"14d\", \\\n",
    "                \"actions\": {} \\\n",
    "            } \\\n",
    "        } \\\n",
    "    } \\\n",
    "}'\n"
   ]
  },
  {
   "cell_type": "markdown",
   "metadata": {},
   "source": [
    "Se crea el _bootstrap index_ que es el índice inicial y en el que se empezarán a añadir los datos. Será el primer índice del nivel Hot.\n",
    "\n",
    "**IMPORTANTE: MODIFICAR INDICADO LA FECHA (YYYYMMDD) EN LA QUE SE VA A EJECUTAR.** Al elaborar esta memoria se fijó como primer índice el correspondiente al día 21 de febrero de 2024 (20220221)"
   ]
  },
  {
   "cell_type": "code",
   "execution_count": null,
   "metadata": {},
   "outputs": [],
   "source": [
    "! curl -X PUT \"http://elasticsearch:9200/index-web-log-20240221\" -H 'Content-Type: application/json' -d' \\\n",
    "{ \\\n",
    "    \"aliases\": { \\\n",
    "        \"index-web-log\":{ \\\n",
    "            \"is_write_index\": true \\\n",
    "        } \\\n",
    "    } \\\n",
    "}'"
   ]
  },
  {
   "cell_type": "markdown",
   "metadata": {},
   "source": [
    "## Ingesta de datos"
   ]
  },
  {
   "cell_type": "markdown",
   "metadata": {},
   "source": [
    "### Prerequisitos"
   ]
  },
  {
   "cell_type": "markdown",
   "metadata": {},
   "source": [
    "En esta práctica se va a usar el cliente Python para Elasticsearh:\n",
    "https://www.elastic.co/guide/en/elasticsearch/client/python-api/current/installation.html\n",
    "\n",
    "Con el fin de evitar posibles problemas, se recomenda instalar y/o actualizar algunas liberías."
   ]
  },
  {
   "cell_type": "code",
   "execution_count": null,
   "metadata": {},
   "outputs": [],
   "source": [
    "!pip install requests==2.27.1"
   ]
  },
  {
   "cell_type": "code",
   "execution_count": null,
   "metadata": {},
   "outputs": [],
   "source": [
    "!pip install elasticsearch"
   ]
  },
  {
   "cell_type": "markdown",
   "metadata": {},
   "source": [
    "### Importación de liberías"
   ]
  },
  {
   "cell_type": "code",
   "execution_count": null,
   "metadata": {},
   "outputs": [],
   "source": [
    "import os\n",
    "import json\n",
    "import random\n",
    "import pandas as pd\n",
    "\n",
    "from datetime import datetime, timedelta\n",
    "from elasticsearch import Elasticsearch\n",
    "from elasticsearch.helpers import bulk"
   ]
  },
  {
   "cell_type": "markdown",
   "metadata": {},
   "source": [
    "### Conexion con Elasticsearch"
   ]
  },
  {
   "cell_type": "code",
   "execution_count": null,
   "metadata": {},
   "outputs": [],
   "source": [
    "elastic_con = Elasticsearch('http://elasticsearch:9200')"
   ]
  },
  {
   "cell_type": "markdown",
   "metadata": {},
   "source": [
    "### Creación del índice diario"
   ]
  },
  {
   "cell_type": "markdown",
   "metadata": {},
   "source": [
    "Para enviar documentos a Elasticsearch mediante el cliente de Python se requiere en primer lugar crear el índice donde se van a guardar. Para ello se necesita especificar el nombre del índice y en el cuerpo de la petición, los _settings_ y el _mapping_ de los datos a insertar:\n",
    "\n",
    "https://www.elastic.co/guide/en/elasticsearch/client/python-api/current/getting-started-python.html\n",
    "\n",
    "https://sarahleejane.github.io/learning/python/2015/10/14/creating-an-elastic-search-index-with-python.html"
   ]
  },
  {
   "cell_type": "markdown",
   "metadata": {},
   "source": [
    "El mapping se ha guardado en un fichero local \"mapping_file.json\", con el fin de poder modificarlo en un editor de forma más fácil (en caso de ser necesario). "
   ]
  },
  {
   "cell_type": "code",
   "execution_count": null,
   "metadata": {},
   "outputs": [],
   "source": [
    "file_mapping = os.path.join(os.getcwd(),'mapping_file.json')"
   ]
  },
  {
   "cell_type": "code",
   "execution_count": null,
   "metadata": {},
   "outputs": [],
   "source": [
    "# Opening JSON file\n",
    "f_map = open(file_mapping)\n",
    " \n",
    "# returns JSON object as \n",
    "# a dictionary\n",
    "mapping = json.load(f_map)\n",
    "\n",
    "# Closing file\n",
    "f_map.close()"
   ]
  },
  {
   "cell_type": "code",
   "execution_count": null,
   "metadata": {},
   "outputs": [],
   "source": [
    "type(mapping)"
   ]
  },
  {
   "cell_type": "markdown",
   "metadata": {},
   "source": [
    "A continuación se crea el cuerpo de la petición con el mapping del fichero."
   ]
  },
  {
   "cell_type": "code",
   "execution_count": null,
   "metadata": {},
   "outputs": [],
   "source": [
    "request_body = {\n",
    "    \"settings\" : {\n",
    "        \"number_of_shards\": 3,\n",
    "        \"number_of_replicas\": 2,\n",
    "        \"index.lifecycle.name\": \"web-log-metrics-policy\",\n",
    "        \"index.lifecycle.rollover_alias\": \"index-web-log\"\n",
    "    },\n",
    "    'mappings': mapping\n",
    "}"
   ]
  },
  {
   "cell_type": "markdown",
   "metadata": {},
   "source": [
    "Como el índice del caso de uso se va a crear a diario, se introduce la fecha en el nombre del índice."
   ]
  },
  {
   "cell_type": "code",
   "execution_count": null,
   "metadata": {},
   "outputs": [],
   "source": [
    "test_time = datetime.now()\n",
    "index_date = test_time.strftime(\"%Y%m%d\")\n",
    "print(index_date)"
   ]
  },
  {
   "cell_type": "markdown",
   "metadata": {},
   "source": [
    "Finalmente, se lanza la petición de crear el índice."
   ]
  },
  {
   "cell_type": "code",
   "execution_count": null,
   "metadata": {},
   "outputs": [],
   "source": [
    "index_name = \"index-web-log-\" + index_date\n",
    "if elastic_con.indices.exists(index=index_name):\n",
    "    print('INFO: El indice {} ya existe.'.format(index_name))\n",
    "    print('INFO: Los datos se insertarán en el indice existente.')\n",
    "else:\n",
    "    elastic_con.indices.create(index = index_name, body = request_body)"
   ]
  },
  {
   "cell_type": "markdown",
   "metadata": {},
   "source": [
    "### Descarga de datos de log"
   ]
  },
  {
   "cell_type": "markdown",
   "metadata": {},
   "source": [
    "Se obtienen la ruta donde se encuentra el log de un fichero local."
   ]
  },
  {
   "cell_type": "code",
   "execution_count": null,
   "metadata": {},
   "outputs": [],
   "source": [
    "file_url = os.path.join(os.getcwd(),'log_url.txt')\n",
    "\n",
    "f_url = open(file_url,'r')\n",
    " \n",
    "url_log = f_url.readline()\n",
    "\n",
    "f_url.close()"
   ]
  },
  {
   "cell_type": "code",
   "execution_count": null,
   "metadata": {},
   "outputs": [],
   "source": [
    "url_log"
   ]
  },
  {
   "cell_type": "markdown",
   "metadata": {},
   "source": [
    "Se lee los datos de la ruta especificada y se vuelca a una variable local."
   ]
  },
  {
   "cell_type": "code",
   "execution_count": null,
   "metadata": {},
   "outputs": [],
   "source": [
    "try:\n",
    "    jsonObj = pd.read_json(path_or_buf=url_log, lines=True, orient='records')\n",
    "    fail = False\n",
    "    print('OK')\n",
    "except:\n",
    "    fail = True\n",
    "    print('KO')"
   ]
  },
  {
   "cell_type": "markdown",
   "metadata": {},
   "source": [
    "Opcionalmente, se puede almacenar los registros descargados en un fichero local."
   ]
  },
  {
   "cell_type": "code",
   "execution_count": null,
   "metadata": {},
   "outputs": [],
   "source": [
    "data_file = os.path.join(os.getcwd(),'web_log.txt')\n",
    "\n",
    "if fail:\n",
    "    print('Falló la descarga del fichero de log.')\n",
    "else:\n",
    "    if os.path.isfile(data_file):\n",
    "        print('El fichero ya existe en local.')\n",
    "    else:\n",
    "        print('Se guarda el log en local.')\n",
    "        jsonObj.to_csv(data_file)"
   ]
  },
  {
   "cell_type": "markdown",
   "metadata": {},
   "source": [
    "Finalmente, se incia la insercion de documentos en el índice especificado de Elasticsearch.\n",
    "\n",
    "Para probar la política de ciclo de vida de los índices, se han creado dos varibles:\n",
    "- \"test\" permite seleccionar un subconjunto de documentos para cargarlos en el índice de un día.\n",
    "- \"regs_batch\" conjunto de registros que se van a insertar. NOTA: se generan dos posiciones random (una en la parte incial y otra en la parte final del fichero) a partir de las cuales se recolectan dos lotes de registros.\n",
    "\n",
    "**IMPORTANTE: Si test = False, se cargarán todos los documentos en el índice del día.**"
   ]
  },
  {
   "cell_type": "code",
   "execution_count": null,
   "metadata": {},
   "outputs": [],
   "source": [
    "test = False\n",
    "regs_batch = 100"
   ]
  },
  {
   "cell_type": "code",
   "execution_count": null,
   "metadata": {},
   "outputs": [],
   "source": [
    "regs_ok = 0\n",
    "regs_ko = 0\n",
    "list_ko = []\n",
    "\n",
    "g1 = random.randint(1000, 6000)\n",
    "g2 = random.randint(7000, 12000)\n",
    "\n",
    "if fail:\n",
    "    print('Falló la descarga del fichero de log.')\n",
    "else:\n",
    "    if test:\n",
    "        for l in range(jsonObj.shape[0]):\n",
    "            if g1 - regs_batch < l < g1 + regs_batch:\n",
    "                output = bulk(elastic_con, [(jsonObj.loc[l]).to_json()], index=index_name)\n",
    "                if output[0]:\n",
    "                    regs_ok += 1\n",
    "                else:\n",
    "                    regs_ko += 1\n",
    "                    list_ko.append(l)\n",
    "            elif g2 - regs_batch < l < g2 + regs_batch:\n",
    "                output = bulk(elastic_con, [(jsonObj.loc[l]).to_json()], index=index_name)\n",
    "                if output:\n",
    "                    regs_ok += 1\n",
    "                else:\n",
    "                    regs_ko += 1\n",
    "                    list_ko.append(l)\n",
    "            else:\n",
    "                pass\n",
    "    else:\n",
    "        for l in range(jsonObj.shape[0]):\n",
    "            output = bulk(elastic_con, [(jsonObj.loc[l]).to_json()], index=index_name)\n",
    "            if output[0]:\n",
    "                regs_ok += 1\n",
    "            else:\n",
    "                regs_ko += 1\n",
    "                list_ko.append(l)\n",
    "\n",
    "    print(regs_ok, regs_ko)"
   ]
  },
  {
   "cell_type": "markdown",
   "metadata": {},
   "source": [
    "## CONSULTAS"
   ]
  },
  {
   "cell_type": "markdown",
   "metadata": {},
   "source": [
    "En esta sección se ha intentado recopilar una consulta de cada tipo vistas durante este módulo. Se ha añadido la opción _?size=0_ para visualizar sólo el número de hits.\n",
    "\n",
    "En el fichero \"kibana_queries.txt\" se incluyen una lista de queries que se ha realizado en las que se puede ver la lista de documentos. No todas se han incluido en este notebook.\n",
    "\n"
   ]
  },
  {
   "cell_type": "markdown",
   "metadata": {},
   "source": [
    "### Consultas Full-text o Match Queries"
   ]
  },
  {
   "cell_type": "markdown",
   "metadata": {},
   "source": [
    "#### Obtener el número de peticiones erróneas."
   ]
  },
  {
   "cell_type": "code",
   "execution_count": null,
   "metadata": {},
   "outputs": [],
   "source": [
    "! curl -X GET \"http://elasticsearch:9200/index-web-log-*/_search?size=0\" -H 'Content-Type: application/json' -d' \\\n",
    "{ \\\n",
    "    \"query\": { \\\n",
    "        \"match\":{ \\\n",
    "            \"@tags\": \"error\" \\\n",
    "        } \\\n",
    "    } \\\n",
    "}'"
   ]
  },
  {
   "cell_type": "markdown",
   "metadata": {},
   "source": [
    "### Term queries"
   ]
  },
  {
   "cell_type": "markdown",
   "metadata": {},
   "source": [
    "#### Obtener el número de peticiones de una version de mensaje específica."
   ]
  },
  {
   "cell_type": "code",
   "execution_count": null,
   "metadata": {},
   "outputs": [],
   "source": [
    "! curl -X GET \"http://elasticsearch:9200/index-web-log-*/_search?size=0\" -H 'Content-Type: application/json' -d' \\\n",
    "{ \\\n",
    "  \"query\": { \\\n",
    "    \"term\": { \\\n",
    "        \"@version\": \"1\" \\\n",
    "    } \\\n",
    "  } \\\n",
    "}'"
   ]
  },
  {
   "cell_type": "markdown",
   "metadata": {},
   "source": [
    "### Wildcards queries"
   ]
  },
  {
   "cell_type": "markdown",
   "metadata": {},
   "source": [
    "#### Obtener el número de peticiones correctas."
   ]
  },
  {
   "cell_type": "code",
   "execution_count": null,
   "metadata": {},
   "outputs": [],
   "source": [
    "! curl -X GET \"http://elasticsearch:9200/index-web-log-*/_search?size=0\" -H 'Content-Type: application/json' -d' \\\n",
    "{ \\\n",
    "  \"query\": { \\\n",
    "        \"wildcard\" : { \\\n",
    "            \"response\" : \"2*\" \\\n",
    "        } \\\n",
    "    } \\\n",
    "}'"
   ]
  },
  {
   "cell_type": "markdown",
   "metadata": {},
   "source": [
    "#### Obtener el número de peticiones de máquinas windows."
   ]
  },
  {
   "cell_type": "code",
   "execution_count": null,
   "metadata": {},
   "outputs": [],
   "source": [
    "! curl -X GET \"http://elasticsearch:9200/index-web-log-*/_search?size=0\" -H 'Content-Type: application/json' -d' \\\n",
    "{ \\\n",
    "  \"query\": { \\\n",
    "        \"wildcard\" : { \\\n",
    "            \"machine.os\": \"win*\" \\\n",
    "        } \\\n",
    "    } \\\n",
    "}'"
   ]
  },
  {
   "cell_type": "markdown",
   "metadata": {},
   "source": [
    "### Boolean Query"
   ]
  },
  {
   "cell_type": "markdown",
   "metadata": {},
   "source": [
    "#### Obtener el número de peticiones de un cliente Mozilla 4.0."
   ]
  },
  {
   "cell_type": "code",
   "execution_count": null,
   "metadata": {},
   "outputs": [],
   "source": [
    "! curl -X GET \"http://elasticsearch:9200/index-web-log-*/_search?size=0\" -H 'Content-Type: application/json' -d' \\\n",
    "{ \\\n",
    "  \"query\": { \\\n",
    "        \"bool\": { \\\n",
    "            \"must\": [ \\\n",
    "              { \"match\": { \"agent\": \"4.0\" }} \\\n",
    "            ] \\\n",
    "        } \\\n",
    "    } \\\n",
    "}'"
   ]
  },
  {
   "cell_type": "markdown",
   "metadata": {},
   "source": [
    "#### Obtener el número de peticiones de tamaño 0 bytes."
   ]
  },
  {
   "cell_type": "code",
   "execution_count": null,
   "metadata": {},
   "outputs": [],
   "source": [
    "! curl -X GET \"http://elasticsearch:9200/index-web-log-*/_search?size=0\" -H 'Content-Type: application/json' -d' \\\n",
    "{ \\\n",
    "    \"query\": { \\\n",
    "        \"bool\": { \\\n",
    "            \"should\": [ \\\n",
    "              { \"match\": { \"bytes\": 0 }} \\\n",
    "            ] \\\n",
    "        } \\\n",
    "    } \\\n",
    "}'"
   ]
  },
  {
   "cell_type": "markdown",
   "metadata": {},
   "source": [
    "### Range query"
   ]
  },
  {
   "cell_type": "markdown",
   "metadata": {},
   "source": [
    "#### Obtener el número de peticiones cuyo tamaño sea superior a 10000 bytes y darlos ordenados en orden descendente.\n",
    "Nota: Para ver la ordenación hay que quitar _?size=0_ de la peticion. Además, se visualiza mejor desde Kibana."
   ]
  },
  {
   "cell_type": "code",
   "execution_count": null,
   "metadata": {},
   "outputs": [],
   "source": [
    "! curl -X GET \"http://elasticsearch:9200/index-web-log-*/_search?size=0\" -H 'Content-Type: application/json' -d' \\\n",
    "{ \\\n",
    "    \"query\": { \\\n",
    "        \"range\" : { \\\n",
    "            \"bytes\": { \\\n",
    "                \"gte\": \"10000\" \\\n",
    "              } \\\n",
    "        } \\\n",
    "    }, \\\n",
    "    \"sort\": [ \\\n",
    "      { \"bytes\": {\"order\": \"desc\" } } \\\n",
    "    ] \\\n",
    "}'"
   ]
  },
  {
   "cell_type": "markdown",
   "metadata": {},
   "source": [
    "#### Obtener el número de peticiones entre 18/05 y el 19/05 usando el campo _@timestamp_."
   ]
  },
  {
   "cell_type": "code",
   "execution_count": null,
   "metadata": {},
   "outputs": [],
   "source": [
    "! curl -X GET \"http://elasticsearch:9200/index-web-log-*/_search?size=0\" -H 'Content-Type: application/json' -d' \\\n",
    "{ \\\n",
    "    \"query\": { \\\n",
    "        \"range\" : { \\\n",
    "            \"@timestamp\": { \\\n",
    "                \"gte\": \"2015-05-18\", \\\n",
    "                \"lte\": \"2015-05-19\" \\\n",
    "              } \\\n",
    "        } \\\n",
    "    } \\\n",
    "}'"
   ]
  },
  {
   "cell_type": "markdown",
   "metadata": {},
   "source": [
    "#### Obtener el número de peticiones entre 19/05 y el 20/05 usando el campo _utc_time_."
   ]
  },
  {
   "cell_type": "code",
   "execution_count": null,
   "metadata": {},
   "outputs": [],
   "source": [
    "! curl -X GET \"http://elasticsearch:9200/index-web-log-*/_search?size=0\" -H 'Content-Type: application/json' -d' \\\n",
    "{ \\\n",
    "    \"query\": { \\\n",
    "        \"range\" : { \\\n",
    "            \"utc_time\": { \\\n",
    "                \"gte\": \"2015-05-19\", \\\n",
    "                \"lte\": \"2015-05-20\" \\\n",
    "              } \\\n",
    "        } \\\n",
    "    } \\\n",
    "}'"
   ]
  },
  {
   "cell_type": "markdown",
   "metadata": {},
   "source": [
    "### Match Phrase Prefix Query"
   ]
  },
  {
   "cell_type": "markdown",
   "metadata": {},
   "source": [
    "#### Obtener el número de peticiones hechas a twitter."
   ]
  },
  {
   "cell_type": "code",
   "execution_count": null,
   "metadata": {},
   "outputs": [],
   "source": [
    "! curl -X GET \"http://elasticsearch:9200/index-web-log-*/_search?size=0\" -H 'Content-Type: application/json' -d' \\\n",
    "{ \\\n",
    "    \"query\": { \\\n",
    "    \"match_phrase_prefix\": { \\\n",
    "      \"headings\": { \\\n",
    "        \"query\": \"twitter\", \\\n",
    "        \"max_expansions\": 10 \\\n",
    "      } \\\n",
    "    } \\\n",
    "  } \\\n",
    "}'"
   ]
  },
  {
   "cell_type": "markdown",
   "metadata": {},
   "source": [
    "### Term aggregation (keyword)"
   ]
  },
  {
   "cell_type": "markdown",
   "metadata": {},
   "source": [
    "#### Agrupar peticiones por la extensión del recurso solicitado."
   ]
  },
  {
   "cell_type": "code",
   "execution_count": null,
   "metadata": {},
   "outputs": [],
   "source": [
    "! curl -X GET \"http://elasticsearch:9200/index-web-log-*/_search?size=0\" -H 'Content-Type: application/json' -d' \\\n",
    "{ \\\n",
    "    \"aggs\" : { \\\n",
    "        \"ext_agg\" : { \\\n",
    "            \"terms\" : { \"field\" : \"extension\" }  \\\n",
    "        } \\\n",
    "    } \\\n",
    "}'"
   ]
  },
  {
   "cell_type": "markdown",
   "metadata": {},
   "source": [
    "### Range aggregation (long)"
   ]
  },
  {
   "cell_type": "markdown",
   "metadata": {},
   "source": [
    "#### Agrupar peticiones por el tamaño de la respuesta."
   ]
  },
  {
   "cell_type": "code",
   "execution_count": null,
   "metadata": {},
   "outputs": [],
   "source": [
    "! curl -X GET \"http://elasticsearch:9200/index-web-log-*/_search?size=0\" -H 'Content-Type: application/json' -d' \\\n",
    "{ \\\n",
    "    \"aggs\" : { \\\n",
    "        \"size_agg\" : { \\\n",
    "            \"range\" : { \\\n",
    "                \"field\" : \"bytes\", \\\n",
    "                \"ranges\" : [ \\\n",
    "                    { \"to\" : 5000 }, \\\n",
    "                    { \"from\" : 5000, \"to\" : 10000 }, \\\n",
    "                    { \"from\" : 10000 } \\\n",
    "                ] \\\n",
    "            } \\\n",
    "        } \\\n",
    "    } \\\n",
    "}'"
   ]
  },
  {
   "cell_type": "markdown",
   "metadata": {},
   "source": [
    "### Date aggregation (date)"
   ]
  },
  {
   "cell_type": "markdown",
   "metadata": {},
   "source": [
    "#### Agrupar peticiones anteriores y posteriores a una fecha."
   ]
  },
  {
   "cell_type": "code",
   "execution_count": null,
   "metadata": {},
   "outputs": [],
   "source": [
    "! curl -X GET \"http://elasticsearch:9200/index-web-log-*/_search?size=0\" -H 'Content-Type: application/json' -d' \\\n",
    "{ \\\n",
    "   \"aggs\": { \\\n",
    "        \"data_agg\": { \\\n",
    "            \"date_range\": { \\\n",
    "                \"field\": \"@timestamp\", \\\n",
    "                \"format\": \"yyyy-MM-dd\", \\\n",
    "                \"ranges\": [ \\\n",
    "                    { \"to\": \"2015-05-19\" },  \\\n",
    "                    { \"from\": \"2015-05-19\" }  \\\n",
    "                ] \\\n",
    "            } \\\n",
    "        } \\\n",
    "    } \\\n",
    "}'"
   ]
  },
  {
   "cell_type": "markdown",
   "metadata": {},
   "source": [
    "## Conclusiones"
   ]
  },
  {
   "cell_type": "markdown",
   "metadata": {},
   "source": [
    "### Opinión sobre la base de datos seleccionada como data store"
   ]
  },
  {
   "cell_type": "markdown",
   "metadata": {},
   "source": [
    "La base de datos de Elasticsearch es una poderosa herramienta de búsqueda y análisis de datos. Tiene una gran capacidad para procesar grandes volúmenes de datos de manera rápida y eficiente. Está diseñado para escalar horizontalmente y gracias su integración con Kibana es posible realizar consultas complejas."
   ]
  },
  {
   "cell_type": "markdown",
   "metadata": {},
   "source": [
    "### Opinión sobre el ejercicio"
   ]
  },
  {
   "cell_type": "markdown",
   "metadata": {},
   "source": [
    "El profesor a ofrecido una variedad de conjuntos de datos amplio, cada uno enfocado al uso de una de las base de datos NoSQL vistas en el módulo. No obstante, deja a consideración del alumno el poder usar una u otra base de datos, siempre y cuando justifique su uso de forma adecuada. \n",
    "\n",
    "El ejercicio propuesto permite al alumno definir un caso de uso a su elección, facilitándo plantear un enfoque en el que el alumno pueda mostrar lo aprendido en el módulo. Sin embargo tiene un gran inconveniente, que es la falta de conocimiento de que puede ser considerado por el profesor como suficiente."
   ]
  },
  {
   "cell_type": "markdown",
   "metadata": {},
   "source": [
    "### Qué se ha aprendido"
   ]
  },
  {
   "cell_type": "markdown",
   "metadata": {},
   "source": [
    "Hasta la fecha conocía Elasticsearch desde un perfil de usuario de consulta. La realización de este módulo me ha permitido conocer el proceso de creación de indices, plantillas de indices y definir una política de gestión de ciclo de vida de los índices.\n",
    "\n",
    "Por otro lado, se han asentado las bases para poder trabajar en un futuro con Neo4j (era mi segunda opción para la práctica) y con Cassandra.\n"
   ]
  },
  {
   "cell_type": "markdown",
   "metadata": {},
   "source": [
    "### Carencias y mejoras"
   ]
  },
  {
   "cell_type": "markdown",
   "metadata": {},
   "source": [
    "En la memoria de esta práctica se ha pretendido incluir el mayor tipo de consultas vista en el módulo de Elasticsearch. Sin embargo, debido a que este máster es muy exhaustivo en cuanto a variedad de contenidos, he dejado fuera consultas más elaboradas y vistas el notebook _14. Metric Aggregations.ipynb_. Además, como se ha explicado anteriormente, el uso de Logstash hubiese sido una opción lógica para este caso de uso, pero que se ha descartado por falta de accesibilidad a esta herramienta en el ámbito laboral."
   ]
  }
 ],
 "metadata": {
  "kernelspec": {
   "display_name": "Python 3",
   "language": "python",
   "name": "python3"
  },
  "language_info": {
   "codemirror_mode": {
    "name": "ipython",
    "version": 3
   },
   "file_extension": ".py",
   "mimetype": "text/x-python",
   "name": "python",
   "nbconvert_exporter": "python",
   "pygments_lexer": "ipython3",
   "version": "3.6.3"
  }
 },
 "nbformat": 4,
 "nbformat_minor": 2
}
